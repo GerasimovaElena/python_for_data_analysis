{
 "cells": [
  {
   "cell_type": "markdown",
   "metadata": {},
   "source": [
    "# Приоритизация гипотез и анализ результатов A/B-тест"
   ]
  },
  {
   "cell_type": "markdown",
   "metadata": {},
   "source": [
    "Часть 1. [Приоритизация гипотез](#one)\n",
    "1. [Открытие и изучение файла с данными](#one.1)\n",
    "2. [Применение фреймворка ICE для приоритизации гипотез](#one.2)\n",
    "3. [Применение фреймворка RICE для приоритизации гипотез](#one.3)\n",
    "4. [Выводы](#one.4)\n",
    "\n",
    "Часть 2. [Анализ A/B-теста](#two)\n",
    "1. [Открытие и изучение файлов с данными](#two.1)\n",
    "2. [Графический анализ результатов](#two.2)\n",
    "3. [Анализ выбросов](#two.3)\n",
    "4. [Cтатистическая значимость результатов](#two.4)\n",
    "5. [Выводы](#two.5)"
   ]
  },
  {
   "cell_type": "code",
   "execution_count": 1,
   "metadata": {},
   "outputs": [],
   "source": [
    "# Импорт библиотек\n",
    "import pandas as pd\n",
    "import numpy as np\n",
    "import scipy.stats as stats\n",
    "import matplotlib.pyplot as plt\n",
    "import seaborn as sns\n",
    "from IPython.display import display\n",
    "\n",
    "# Настройка отображения результатов\n",
    "pd.set_option('precision', 3)\n",
    "pd.set_option('display.max_columns', 50)\n",
    "pd.options.mode.chained_assignment = None\n",
    "pd.options.display.max_colwidth = 150\n",
    "pd.options.display.float_format = '{:.3f}'.format"
   ]
  },
  {
   "cell_type": "markdown",
   "metadata": {},
   "source": [
    "## Часть 1. Приоритизация гипотез <a class=\"anchor\" id=\"one\"></a>"
   ]
  },
  {
   "cell_type": "markdown",
   "metadata": {},
   "source": [
    "Совместно с отделом маркетинга подготовлен список гипотез для увеличения выручки интернет-магазина.\n",
    "Чтобы максимизировать ожидаемое улучшение ключевых метрик бизнеса, сформулированные гипотезы необходимо приоритизировать."
   ]
  },
  {
   "cell_type": "markdown",
   "metadata": {},
   "source": [
    "### Открытие и изучение файла с данными  <a class=\"anchor\" id=\"one.1\"></a>"
   ]
  },
  {
   "cell_type": "code",
   "execution_count": 2,
   "metadata": {},
   "outputs": [
    {
     "data": {
      "text/html": [
       "<div>\n",
       "<style scoped>\n",
       "    .dataframe tbody tr th:only-of-type {\n",
       "        vertical-align: middle;\n",
       "    }\n",
       "\n",
       "    .dataframe tbody tr th {\n",
       "        vertical-align: top;\n",
       "    }\n",
       "\n",
       "    .dataframe thead th {\n",
       "        text-align: right;\n",
       "    }\n",
       "</style>\n",
       "<table border=\"1\" class=\"dataframe\">\n",
       "  <thead>\n",
       "    <tr style=\"text-align: right;\">\n",
       "      <th></th>\n",
       "      <th>hypothesis</th>\n",
       "      <th>reach</th>\n",
       "      <th>impact</th>\n",
       "      <th>confidence</th>\n",
       "      <th>efforts</th>\n",
       "    </tr>\n",
       "  </thead>\n",
       "  <tbody>\n",
       "    <tr>\n",
       "      <th>0</th>\n",
       "      <td>Добавить два новых канала привлечения трафика, что позволит привлекать на 30% больше пользователей</td>\n",
       "      <td>3</td>\n",
       "      <td>10</td>\n",
       "      <td>8</td>\n",
       "      <td>6</td>\n",
       "    </tr>\n",
       "    <tr>\n",
       "      <th>1</th>\n",
       "      <td>Запустить собственную службу доставки, что сократит срок доставки заказов</td>\n",
       "      <td>2</td>\n",
       "      <td>5</td>\n",
       "      <td>4</td>\n",
       "      <td>10</td>\n",
       "    </tr>\n",
       "    <tr>\n",
       "      <th>2</th>\n",
       "      <td>Добавить блоки рекомендаций товаров на сайт интернет магазина, чтобы повысить конверсию и средний чек заказа</td>\n",
       "      <td>8</td>\n",
       "      <td>3</td>\n",
       "      <td>7</td>\n",
       "      <td>3</td>\n",
       "    </tr>\n",
       "    <tr>\n",
       "      <th>3</th>\n",
       "      <td>Изменить структура категорий, что увеличит конверсию, т.к. пользователи быстрее найдут нужный товар</td>\n",
       "      <td>8</td>\n",
       "      <td>3</td>\n",
       "      <td>3</td>\n",
       "      <td>8</td>\n",
       "    </tr>\n",
       "    <tr>\n",
       "      <th>4</th>\n",
       "      <td>Изменить цвет фона главной страницы, чтобы увеличить вовлеченность пользователей</td>\n",
       "      <td>3</td>\n",
       "      <td>1</td>\n",
       "      <td>1</td>\n",
       "      <td>1</td>\n",
       "    </tr>\n",
       "    <tr>\n",
       "      <th>5</th>\n",
       "      <td>Добавить страницу отзывов клиентов о магазине, что позволит увеличить количество заказов</td>\n",
       "      <td>3</td>\n",
       "      <td>2</td>\n",
       "      <td>2</td>\n",
       "      <td>3</td>\n",
       "    </tr>\n",
       "    <tr>\n",
       "      <th>6</th>\n",
       "      <td>Показать на главной странице баннеры с актуальными акциями и распродажами, чтобы увеличить конверсию</td>\n",
       "      <td>5</td>\n",
       "      <td>3</td>\n",
       "      <td>8</td>\n",
       "      <td>3</td>\n",
       "    </tr>\n",
       "    <tr>\n",
       "      <th>7</th>\n",
       "      <td>Добавить форму подписки на все основные страницы, чтобы собрать базу клиентов для email-рассылок</td>\n",
       "      <td>10</td>\n",
       "      <td>7</td>\n",
       "      <td>8</td>\n",
       "      <td>5</td>\n",
       "    </tr>\n",
       "    <tr>\n",
       "      <th>8</th>\n",
       "      <td>Запустить акцию, дающую скидку на товар в день рождения</td>\n",
       "      <td>1</td>\n",
       "      <td>9</td>\n",
       "      <td>9</td>\n",
       "      <td>5</td>\n",
       "    </tr>\n",
       "  </tbody>\n",
       "</table>\n",
       "</div>"
      ],
      "text/plain": [
       "                                                                                                     hypothesis  \\\n",
       "0            Добавить два новых канала привлечения трафика, что позволит привлекать на 30% больше пользователей   \n",
       "1                                     Запустить собственную службу доставки, что сократит срок доставки заказов   \n",
       "2  Добавить блоки рекомендаций товаров на сайт интернет магазина, чтобы повысить конверсию и средний чек заказа   \n",
       "3           Изменить структура категорий, что увеличит конверсию, т.к. пользователи быстрее найдут нужный товар   \n",
       "4                              Изменить цвет фона главной страницы, чтобы увеличить вовлеченность пользователей   \n",
       "5                      Добавить страницу отзывов клиентов о магазине, что позволит увеличить количество заказов   \n",
       "6          Показать на главной странице баннеры с актуальными акциями и распродажами, чтобы увеличить конверсию   \n",
       "7              Добавить форму подписки на все основные страницы, чтобы собрать базу клиентов для email-рассылок   \n",
       "8                                                       Запустить акцию, дающую скидку на товар в день рождения   \n",
       "\n",
       "   reach  impact  confidence  efforts  \n",
       "0      3      10           8        6  \n",
       "1      2       5           4       10  \n",
       "2      8       3           7        3  \n",
       "3      8       3           3        8  \n",
       "4      3       1           1        1  \n",
       "5      3       2           2        3  \n",
       "6      5       3           8        3  \n",
       "7     10       7           8        5  \n",
       "8      1       9           9        5  "
      ]
     },
     "metadata": {},
     "output_type": "display_data"
    }
   ],
   "source": [
    "hypothesis = pd.read_csv('hypothesis.csv')\n",
    "hypothesis.columns = hypothesis.columns.str.lower()\n",
    "display(hypothesis)"
   ]
  },
  {
   "cell_type": "markdown",
   "metadata": {},
   "source": [
    "В таблице `hypothesis` содержится следующая информация о 9 гипотезах по увеличению выручки интернет-магазина:\n",
    "* hypothesis — краткое описание гипотезы;\n",
    "* reach — охват пользователей по 10-балльной шкале;\n",
    "* impact — влияние на пользователей по 10-балльной шкале;\n",
    "* confidence — уверенность в гипотезе по 10-балльной шкале;\n",
    "* efforts — затраты ресурсов на проверку гипотезы по 10-балльной шкале. Чем больше значение efforts, тем дороже проверка гипотезы."
   ]
  },
  {
   "cell_type": "markdown",
   "metadata": {},
   "source": [
    "### Применение фреймворка ICE для приоритизации гипотез  <a class=\"anchor\" id=\"one.2\"></a>"
   ]
  },
  {
   "cell_type": "code",
   "execution_count": 3,
   "metadata": {},
   "outputs": [
    {
     "data": {
      "text/html": [
       "<div>\n",
       "<style scoped>\n",
       "    .dataframe tbody tr th:only-of-type {\n",
       "        vertical-align: middle;\n",
       "    }\n",
       "\n",
       "    .dataframe tbody tr th {\n",
       "        vertical-align: top;\n",
       "    }\n",
       "\n",
       "    .dataframe thead th {\n",
       "        text-align: right;\n",
       "    }\n",
       "</style>\n",
       "<table border=\"1\" class=\"dataframe\">\n",
       "  <thead>\n",
       "    <tr style=\"text-align: right;\">\n",
       "      <th></th>\n",
       "      <th>hypothesis</th>\n",
       "      <th>ICE</th>\n",
       "    </tr>\n",
       "  </thead>\n",
       "  <tbody>\n",
       "    <tr>\n",
       "      <th>8</th>\n",
       "      <td>Запустить акцию, дающую скидку на товар в день рождения</td>\n",
       "      <td>16.200</td>\n",
       "    </tr>\n",
       "    <tr>\n",
       "      <th>0</th>\n",
       "      <td>Добавить два новых канала привлечения трафика, что позволит привлекать на 30% больше пользователей</td>\n",
       "      <td>13.333</td>\n",
       "    </tr>\n",
       "    <tr>\n",
       "      <th>7</th>\n",
       "      <td>Добавить форму подписки на все основные страницы, чтобы собрать базу клиентов для email-рассылок</td>\n",
       "      <td>11.200</td>\n",
       "    </tr>\n",
       "    <tr>\n",
       "      <th>6</th>\n",
       "      <td>Показать на главной странице баннеры с актуальными акциями и распродажами, чтобы увеличить конверсию</td>\n",
       "      <td>8.000</td>\n",
       "    </tr>\n",
       "    <tr>\n",
       "      <th>2</th>\n",
       "      <td>Добавить блоки рекомендаций товаров на сайт интернет магазина, чтобы повысить конверсию и средний чек заказа</td>\n",
       "      <td>7.000</td>\n",
       "    </tr>\n",
       "    <tr>\n",
       "      <th>1</th>\n",
       "      <td>Запустить собственную службу доставки, что сократит срок доставки заказов</td>\n",
       "      <td>2.000</td>\n",
       "    </tr>\n",
       "    <tr>\n",
       "      <th>5</th>\n",
       "      <td>Добавить страницу отзывов клиентов о магазине, что позволит увеличить количество заказов</td>\n",
       "      <td>1.333</td>\n",
       "    </tr>\n",
       "    <tr>\n",
       "      <th>3</th>\n",
       "      <td>Изменить структура категорий, что увеличит конверсию, т.к. пользователи быстрее найдут нужный товар</td>\n",
       "      <td>1.125</td>\n",
       "    </tr>\n",
       "    <tr>\n",
       "      <th>4</th>\n",
       "      <td>Изменить цвет фона главной страницы, чтобы увеличить вовлеченность пользователей</td>\n",
       "      <td>1.000</td>\n",
       "    </tr>\n",
       "  </tbody>\n",
       "</table>\n",
       "</div>"
      ],
      "text/plain": [
       "                                                                                                     hypothesis  \\\n",
       "8                                                       Запустить акцию, дающую скидку на товар в день рождения   \n",
       "0            Добавить два новых канала привлечения трафика, что позволит привлекать на 30% больше пользователей   \n",
       "7              Добавить форму подписки на все основные страницы, чтобы собрать базу клиентов для email-рассылок   \n",
       "6          Показать на главной странице баннеры с актуальными акциями и распродажами, чтобы увеличить конверсию   \n",
       "2  Добавить блоки рекомендаций товаров на сайт интернет магазина, чтобы повысить конверсию и средний чек заказа   \n",
       "1                                     Запустить собственную службу доставки, что сократит срок доставки заказов   \n",
       "5                      Добавить страницу отзывов клиентов о магазине, что позволит увеличить количество заказов   \n",
       "3           Изменить структура категорий, что увеличит конверсию, т.к. пользователи быстрее найдут нужный товар   \n",
       "4                              Изменить цвет фона главной страницы, чтобы увеличить вовлеченность пользователей   \n",
       "\n",
       "     ICE  \n",
       "8 16.200  \n",
       "0 13.333  \n",
       "7 11.200  \n",
       "6  8.000  \n",
       "2  7.000  \n",
       "1  2.000  \n",
       "5  1.333  \n",
       "3  1.125  \n",
       "4  1.000  "
      ]
     },
     "metadata": {},
     "output_type": "display_data"
    }
   ],
   "source": [
    "hypothesis['ICE'] = (hypothesis['impact'] * hypothesis['confidence']) / hypothesis['efforts']\n",
    "display(hypothesis[['hypothesis', 'ICE']].sort_values(by='ICE', ascending=False)) "
   ]
  },
  {
   "cell_type": "markdown",
   "metadata": {},
   "source": [
    "Наиболее перспективные гипотезы по ICE: \n",
    "* №9 \"Запустить акцию, дающую скидку на товар в день рождения\"\n",
    "* №1 \"Добавить два новых канала привлечения трафика, что позволит привлекать на 30% больше пользователей\n",
    "* №8 \"Добавить форму подписки на все основные страницы, чтобы собрать базу клиентов для email-рассылок\""
   ]
  },
  {
   "cell_type": "markdown",
   "metadata": {},
   "source": [
    "### Применение фреймворка RICE для приоритизации гипотез  <a class=\"anchor\" id=\"one.3\"></a>"
   ]
  },
  {
   "cell_type": "code",
   "execution_count": 4,
   "metadata": {},
   "outputs": [
    {
     "data": {
      "text/html": [
       "<div>\n",
       "<style scoped>\n",
       "    .dataframe tbody tr th:only-of-type {\n",
       "        vertical-align: middle;\n",
       "    }\n",
       "\n",
       "    .dataframe tbody tr th {\n",
       "        vertical-align: top;\n",
       "    }\n",
       "\n",
       "    .dataframe thead th {\n",
       "        text-align: right;\n",
       "    }\n",
       "</style>\n",
       "<table border=\"1\" class=\"dataframe\">\n",
       "  <thead>\n",
       "    <tr style=\"text-align: right;\">\n",
       "      <th></th>\n",
       "      <th>hypothesis</th>\n",
       "      <th>RICE</th>\n",
       "    </tr>\n",
       "  </thead>\n",
       "  <tbody>\n",
       "    <tr>\n",
       "      <th>7</th>\n",
       "      <td>Добавить форму подписки на все основные страницы, чтобы собрать базу клиентов для email-рассылок</td>\n",
       "      <td>112.000</td>\n",
       "    </tr>\n",
       "    <tr>\n",
       "      <th>2</th>\n",
       "      <td>Добавить блоки рекомендаций товаров на сайт интернет магазина, чтобы повысить конверсию и средний чек заказа</td>\n",
       "      <td>56.000</td>\n",
       "    </tr>\n",
       "    <tr>\n",
       "      <th>0</th>\n",
       "      <td>Добавить два новых канала привлечения трафика, что позволит привлекать на 30% больше пользователей</td>\n",
       "      <td>40.000</td>\n",
       "    </tr>\n",
       "    <tr>\n",
       "      <th>6</th>\n",
       "      <td>Показать на главной странице баннеры с актуальными акциями и распродажами, чтобы увеличить конверсию</td>\n",
       "      <td>40.000</td>\n",
       "    </tr>\n",
       "    <tr>\n",
       "      <th>8</th>\n",
       "      <td>Запустить акцию, дающую скидку на товар в день рождения</td>\n",
       "      <td>16.200</td>\n",
       "    </tr>\n",
       "    <tr>\n",
       "      <th>3</th>\n",
       "      <td>Изменить структура категорий, что увеличит конверсию, т.к. пользователи быстрее найдут нужный товар</td>\n",
       "      <td>9.000</td>\n",
       "    </tr>\n",
       "    <tr>\n",
       "      <th>1</th>\n",
       "      <td>Запустить собственную службу доставки, что сократит срок доставки заказов</td>\n",
       "      <td>4.000</td>\n",
       "    </tr>\n",
       "    <tr>\n",
       "      <th>5</th>\n",
       "      <td>Добавить страницу отзывов клиентов о магазине, что позволит увеличить количество заказов</td>\n",
       "      <td>4.000</td>\n",
       "    </tr>\n",
       "    <tr>\n",
       "      <th>4</th>\n",
       "      <td>Изменить цвет фона главной страницы, чтобы увеличить вовлеченность пользователей</td>\n",
       "      <td>3.000</td>\n",
       "    </tr>\n",
       "  </tbody>\n",
       "</table>\n",
       "</div>"
      ],
      "text/plain": [
       "                                                                                                     hypothesis  \\\n",
       "7              Добавить форму подписки на все основные страницы, чтобы собрать базу клиентов для email-рассылок   \n",
       "2  Добавить блоки рекомендаций товаров на сайт интернет магазина, чтобы повысить конверсию и средний чек заказа   \n",
       "0            Добавить два новых канала привлечения трафика, что позволит привлекать на 30% больше пользователей   \n",
       "6          Показать на главной странице баннеры с актуальными акциями и распродажами, чтобы увеличить конверсию   \n",
       "8                                                       Запустить акцию, дающую скидку на товар в день рождения   \n",
       "3           Изменить структура категорий, что увеличит конверсию, т.к. пользователи быстрее найдут нужный товар   \n",
       "1                                     Запустить собственную службу доставки, что сократит срок доставки заказов   \n",
       "5                      Добавить страницу отзывов клиентов о магазине, что позволит увеличить количество заказов   \n",
       "4                              Изменить цвет фона главной страницы, чтобы увеличить вовлеченность пользователей   \n",
       "\n",
       "     RICE  \n",
       "7 112.000  \n",
       "2  56.000  \n",
       "0  40.000  \n",
       "6  40.000  \n",
       "8  16.200  \n",
       "3   9.000  \n",
       "1   4.000  \n",
       "5   4.000  \n",
       "4   3.000  "
      ]
     },
     "metadata": {},
     "output_type": "display_data"
    }
   ],
   "source": [
    "hypothesis['RICE'] = (hypothesis['reach'] * hypothesis['impact'] * hypothesis['confidence'])\\\n",
    "                    / hypothesis['efforts']\n",
    "display(hypothesis[['hypothesis', 'RICE']].sort_values(by='RICE', ascending=False)) "
   ]
  },
  {
   "cell_type": "markdown",
   "metadata": {},
   "source": [
    "Наиболее перспективные гипотезы по RICE:\n",
    "* №8 \"Добавить форму подписки на все основные страницы, чтобы собрать базу клиентов для email-рассылок\"\n",
    "* №3 \"Добавить блоки рекомендаций товаров на сайт интернет магазина, чтобы повысить конверсию и средний чек заказа\"\n",
    "* №1 \"Добавить два новых канала привлечения трафика, что позволит привлекать на 30% больше пользователей\""
   ]
  },
  {
   "cell_type": "markdown",
   "metadata": {},
   "source": [
    "### Выводы  <a class=\"anchor\" id=\"one.4\"></a>"
   ]
  },
  {
   "cell_type": "markdown",
   "metadata": {},
   "source": [
    "<div style=\"border:solid  black  2px; padding: 20px\">\n",
    "\n",
    "Метод RICE, в отличие от ICE, также включает оценку количества пользователей, затрагиваемых планируемым изменением. Учет данного параметра существенно повлиял на итоговую оценку приоритета гипотез №3 \"Добавить блоки рекомендаций товаров на сайт интернет магазина, чтобы повысить конверсию и средний чек заказа\" (высокая оценка охвата пользователей) и №9 \"Запустить акцию, дающую скидку на товар в день рождения\" (низкая оценка охвата пользователей). Гипотезам №1 \"Добавить два новых канала привлечения трафика, что позволит привлекать на 30% больше пользователей\" и №8 \"Добавить форму подписки на все основные страницы, чтобы собрать базу клиентов для email-рассылок\" присваивается высокий приоритет вне зависимости от используемого метода оценки."
   ]
  },
  {
   "cell_type": "markdown",
   "metadata": {},
   "source": [
    "## Часть 2. Анализ A/B-теста <a class=\"anchor\" id=\"two\"></a>"
   ]
  },
  {
   "cell_type": "markdown",
   "metadata": {},
   "source": [
    "Получены результаты A/B-тест. Необходимо провести их анализ."
   ]
  },
  {
   "cell_type": "markdown",
   "metadata": {},
   "source": [
    "### Открытие и изучение файлов с данными  <a class=\"anchor\" id=\"two.1\"></a>"
   ]
  },
  {
   "cell_type": "code",
   "execution_count": 5,
   "metadata": {
    "scrolled": true
   },
   "outputs": [
    {
     "name": "stdout",
     "output_type": "stream",
     "text": [
      "<class 'pandas.core.frame.DataFrame'>\n",
      "RangeIndex: 1197 entries, 0 to 1196\n",
      "Data columns (total 5 columns):\n",
      " #   Column         Non-Null Count  Dtype \n",
      "---  ------         --------------  ----- \n",
      " 0   transactionId  1197 non-null   int64 \n",
      " 1   visitorId      1197 non-null   int64 \n",
      " 2   date           1197 non-null   object\n",
      " 3   revenue        1197 non-null   int64 \n",
      " 4   group          1197 non-null   object\n",
      "dtypes: int64(3), object(2)\n",
      "memory usage: 46.9+ KB\n"
     ]
    },
    {
     "data": {
      "text/html": [
       "<div>\n",
       "<style scoped>\n",
       "    .dataframe tbody tr th:only-of-type {\n",
       "        vertical-align: middle;\n",
       "    }\n",
       "\n",
       "    .dataframe tbody tr th {\n",
       "        vertical-align: top;\n",
       "    }\n",
       "\n",
       "    .dataframe thead th {\n",
       "        text-align: right;\n",
       "    }\n",
       "</style>\n",
       "<table border=\"1\" class=\"dataframe\">\n",
       "  <thead>\n",
       "    <tr style=\"text-align: right;\">\n",
       "      <th></th>\n",
       "      <th>transactionId</th>\n",
       "      <th>visitorId</th>\n",
       "      <th>date</th>\n",
       "      <th>revenue</th>\n",
       "      <th>group</th>\n",
       "    </tr>\n",
       "  </thead>\n",
       "  <tbody>\n",
       "    <tr>\n",
       "      <th>0</th>\n",
       "      <td>3667963787</td>\n",
       "      <td>3312258926</td>\n",
       "      <td>2019-08-15</td>\n",
       "      <td>1650</td>\n",
       "      <td>B</td>\n",
       "    </tr>\n",
       "    <tr>\n",
       "      <th>1</th>\n",
       "      <td>2804400009</td>\n",
       "      <td>3642806036</td>\n",
       "      <td>2019-08-15</td>\n",
       "      <td>730</td>\n",
       "      <td>B</td>\n",
       "    </tr>\n",
       "    <tr>\n",
       "      <th>2</th>\n",
       "      <td>2961555356</td>\n",
       "      <td>4069496402</td>\n",
       "      <td>2019-08-15</td>\n",
       "      <td>400</td>\n",
       "      <td>A</td>\n",
       "    </tr>\n",
       "    <tr>\n",
       "      <th>3</th>\n",
       "      <td>3797467345</td>\n",
       "      <td>1196621759</td>\n",
       "      <td>2019-08-15</td>\n",
       "      <td>9759</td>\n",
       "      <td>B</td>\n",
       "    </tr>\n",
       "    <tr>\n",
       "      <th>4</th>\n",
       "      <td>2282983706</td>\n",
       "      <td>2322279887</td>\n",
       "      <td>2019-08-15</td>\n",
       "      <td>2308</td>\n",
       "      <td>B</td>\n",
       "    </tr>\n",
       "  </tbody>\n",
       "</table>\n",
       "</div>"
      ],
      "text/plain": [
       "   transactionId   visitorId        date  revenue group\n",
       "0     3667963787  3312258926  2019-08-15     1650     B\n",
       "1     2804400009  3642806036  2019-08-15      730     B\n",
       "2     2961555356  4069496402  2019-08-15      400     A\n",
       "3     3797467345  1196621759  2019-08-15     9759     B\n",
       "4     2282983706  2322279887  2019-08-15     2308     B"
      ]
     },
     "execution_count": 5,
     "metadata": {},
     "output_type": "execute_result"
    }
   ],
   "source": [
    "orders = pd.read_csv('orders.csv')\n",
    "orders.info()\n",
    "orders.head()"
   ]
  },
  {
   "cell_type": "code",
   "execution_count": 6,
   "metadata": {},
   "outputs": [
    {
     "name": "stdout",
     "output_type": "stream",
     "text": [
      "<class 'pandas.core.frame.DataFrame'>\n",
      "RangeIndex: 62 entries, 0 to 61\n",
      "Data columns (total 3 columns):\n",
      " #   Column    Non-Null Count  Dtype \n",
      "---  ------    --------------  ----- \n",
      " 0   date      62 non-null     object\n",
      " 1   group     62 non-null     object\n",
      " 2   visitors  62 non-null     int64 \n",
      "dtypes: int64(1), object(2)\n",
      "memory usage: 1.6+ KB\n"
     ]
    },
    {
     "data": {
      "text/html": [
       "<div>\n",
       "<style scoped>\n",
       "    .dataframe tbody tr th:only-of-type {\n",
       "        vertical-align: middle;\n",
       "    }\n",
       "\n",
       "    .dataframe tbody tr th {\n",
       "        vertical-align: top;\n",
       "    }\n",
       "\n",
       "    .dataframe thead th {\n",
       "        text-align: right;\n",
       "    }\n",
       "</style>\n",
       "<table border=\"1\" class=\"dataframe\">\n",
       "  <thead>\n",
       "    <tr style=\"text-align: right;\">\n",
       "      <th></th>\n",
       "      <th>date</th>\n",
       "      <th>group</th>\n",
       "      <th>visitors</th>\n",
       "    </tr>\n",
       "  </thead>\n",
       "  <tbody>\n",
       "    <tr>\n",
       "      <th>0</th>\n",
       "      <td>2019-08-01</td>\n",
       "      <td>A</td>\n",
       "      <td>719</td>\n",
       "    </tr>\n",
       "    <tr>\n",
       "      <th>1</th>\n",
       "      <td>2019-08-02</td>\n",
       "      <td>A</td>\n",
       "      <td>619</td>\n",
       "    </tr>\n",
       "    <tr>\n",
       "      <th>2</th>\n",
       "      <td>2019-08-03</td>\n",
       "      <td>A</td>\n",
       "      <td>507</td>\n",
       "    </tr>\n",
       "    <tr>\n",
       "      <th>3</th>\n",
       "      <td>2019-08-04</td>\n",
       "      <td>A</td>\n",
       "      <td>717</td>\n",
       "    </tr>\n",
       "    <tr>\n",
       "      <th>4</th>\n",
       "      <td>2019-08-05</td>\n",
       "      <td>A</td>\n",
       "      <td>756</td>\n",
       "    </tr>\n",
       "  </tbody>\n",
       "</table>\n",
       "</div>"
      ],
      "text/plain": [
       "         date group  visitors\n",
       "0  2019-08-01     A       719\n",
       "1  2019-08-02     A       619\n",
       "2  2019-08-03     A       507\n",
       "3  2019-08-04     A       717\n",
       "4  2019-08-05     A       756"
      ]
     },
     "execution_count": 6,
     "metadata": {},
     "output_type": "execute_result"
    }
   ],
   "source": [
    "visits = pd.read_csv('visitors.csv')\n",
    "visits.info()\n",
    "visits.head()"
   ]
  },
  {
   "cell_type": "code",
   "execution_count": 7,
   "metadata": {},
   "outputs": [
    {
     "data": {
      "text/plain": [
       "0"
      ]
     },
     "execution_count": 7,
     "metadata": {},
     "output_type": "execute_result"
    }
   ],
   "source": [
    "# Проверка на дубликаты\n",
    "visits.duplicated().sum()"
   ]
  },
  {
   "cell_type": "code",
   "execution_count": 8,
   "metadata": {},
   "outputs": [
    {
     "data": {
      "text/plain": [
       "0"
      ]
     },
     "execution_count": 8,
     "metadata": {},
     "output_type": "execute_result"
    }
   ],
   "source": [
    "orders.duplicated().sum()"
   ]
  },
  {
   "cell_type": "code",
   "execution_count": 9,
   "metadata": {},
   "outputs": [],
   "source": [
    "# Корректировка форматов\n",
    "orders['date'] = pd.to_datetime(orders['date'], format='%Y-%m-%d')\n",
    "#orders['date'] = orders['date'].map(lambda x: dt.datetime.strptime(x, '%Y-%m-%d'))\n",
    "visits['date'] = pd.to_datetime(visits['date'], format='%Y-%m-%d')\n",
    "orders['revenue'] = orders['revenue'].astype('float')"
   ]
  },
  {
   "cell_type": "code",
   "execution_count": 10,
   "metadata": {},
   "outputs": [
    {
     "data": {
      "text/plain": [
       "count                    1197\n",
       "unique                     31\n",
       "top       2019-08-05 00:00:00\n",
       "freq                       48\n",
       "first     2019-08-01 00:00:00\n",
       "last      2019-08-31 00:00:00\n",
       "Name: date, dtype: object"
      ]
     },
     "execution_count": 10,
     "metadata": {},
     "output_type": "execute_result"
    }
   ],
   "source": [
    "orders['date'].describe()"
   ]
  },
  {
   "cell_type": "code",
   "execution_count": 11,
   "metadata": {},
   "outputs": [
    {
     "data": {
      "text/plain": [
       "count                      62\n",
       "unique                     31\n",
       "top       2019-08-02 00:00:00\n",
       "freq                        2\n",
       "first     2019-08-01 00:00:00\n",
       "last      2019-08-31 00:00:00\n",
       "Name: date, dtype: object"
      ]
     },
     "execution_count": 11,
     "metadata": {},
     "output_type": "execute_result"
    }
   ],
   "source": [
    "visits['date'].describe()"
   ]
  },
  {
   "cell_type": "code",
   "execution_count": 12,
   "metadata": {},
   "outputs": [
    {
     "data": {
      "text/html": [
       "<div>\n",
       "<style scoped>\n",
       "    .dataframe tbody tr th:only-of-type {\n",
       "        vertical-align: middle;\n",
       "    }\n",
       "\n",
       "    .dataframe tbody tr th {\n",
       "        vertical-align: top;\n",
       "    }\n",
       "\n",
       "    .dataframe thead th {\n",
       "        text-align: right;\n",
       "    }\n",
       "</style>\n",
       "<table border=\"1\" class=\"dataframe\">\n",
       "  <thead>\n",
       "    <tr style=\"text-align: right;\">\n",
       "      <th></th>\n",
       "      <th>visitorId</th>\n",
       "      <th>ratio</th>\n",
       "    </tr>\n",
       "    <tr>\n",
       "      <th>group</th>\n",
       "      <th></th>\n",
       "      <th></th>\n",
       "    </tr>\n",
       "  </thead>\n",
       "  <tbody>\n",
       "    <tr>\n",
       "      <th>A</th>\n",
       "      <td>503</td>\n",
       "      <td>0.462</td>\n",
       "    </tr>\n",
       "    <tr>\n",
       "      <th>B</th>\n",
       "      <td>586</td>\n",
       "      <td>0.538</td>\n",
       "    </tr>\n",
       "  </tbody>\n",
       "</table>\n",
       "</div>"
      ],
      "text/plain": [
       "       visitorId  ratio\n",
       "group                  \n",
       "A            503  0.462\n",
       "B            586  0.538"
      ]
     },
     "execution_count": 12,
     "metadata": {},
     "output_type": "execute_result"
    }
   ],
   "source": [
    "# Группы A/B-теста\n",
    "groups = orders[['visitorId','group']].drop_duplicates()\n",
    "groups_size = groups.groupby('group').agg({'visitorId': 'count'})\n",
    "groups_size['ratio'] = groups_size['visitorId'].map(lambda x: x / groups_size['visitorId'].sum())\n",
    "groups_size"
   ]
  },
  {
   "cell_type": "code",
   "execution_count": 13,
   "metadata": {},
   "outputs": [
    {
     "data": {
      "text/plain": [
       "58"
      ]
     },
     "execution_count": 13,
     "metadata": {},
     "output_type": "execute_result"
    }
   ],
   "source": [
    "# Кол-во пользователей, которые попали в обе группы\n",
    "groups['visitorId'].duplicated().sum()"
   ]
  },
  {
   "cell_type": "markdown",
   "metadata": {},
   "source": [
    "Результаты проведения А/В-теста содержатся в 2 таблицах:\n",
    "1. таблица `orders`\n",
    "    * transactionId — идентификатор заказа;\n",
    "    * visitorId — идентификатор пользователя, совершившего заказ;\n",
    "    * date — дата, когда был совершён заказ;\n",
    "    * revenue — выручка заказа;\n",
    "    * group — группа A/B-теста, в которую попал заказ.\n",
    "2. таблица `visits`\n",
    "    * date — дата;\n",
    "    * group — группа A/B-теста;\n",
    "    * visitors — количество пользователей в указанную дату в указанной группе A/B-теста.\n",
    "    \n",
    "Тест проводится с 1 по 31 августа 2019 года (включительно). Дубликатов и пропусков в данных нет, однако возникают вопросы к разделению трафика теста. В группу A попало 46,2% пользователей, в группу B - 53,8% (**относительное различие количества пользователей около 14%**), при этом **58 пользователей (более 10% от пользователей в группах) одновременно попали в обе группы**, что может повлиять на качество результатов теста. Однако в связи с большой долей пользователей, попавших в обе группы, они не исключались из анализа. "
   ]
  },
  {
   "cell_type": "markdown",
   "metadata": {},
   "source": [
    "### Графический анализ результатов  <a class=\"anchor\" id=\"two.2\"></a>"
   ]
  },
  {
   "cell_type": "code",
   "execution_count": 14,
   "metadata": {},
   "outputs": [
    {
     "data": {
      "text/html": [
       "<div>\n",
       "<style scoped>\n",
       "    .dataframe tbody tr th:only-of-type {\n",
       "        vertical-align: middle;\n",
       "    }\n",
       "\n",
       "    .dataframe tbody tr th {\n",
       "        vertical-align: top;\n",
       "    }\n",
       "\n",
       "    .dataframe thead th {\n",
       "        text-align: right;\n",
       "    }\n",
       "</style>\n",
       "<table border=\"1\" class=\"dataframe\">\n",
       "  <thead>\n",
       "    <tr style=\"text-align: right;\">\n",
       "      <th></th>\n",
       "      <th>date</th>\n",
       "      <th>group</th>\n",
       "      <th>orders</th>\n",
       "      <th>buyers</th>\n",
       "      <th>revenue</th>\n",
       "      <th>visitors</th>\n",
       "      <th>conversion</th>\n",
       "    </tr>\n",
       "  </thead>\n",
       "  <tbody>\n",
       "    <tr>\n",
       "      <th>0</th>\n",
       "      <td>2019-08-01</td>\n",
       "      <td>A</td>\n",
       "      <td>24</td>\n",
       "      <td>20</td>\n",
       "      <td>148579.000</td>\n",
       "      <td>719</td>\n",
       "      <td>0.033</td>\n",
       "    </tr>\n",
       "    <tr>\n",
       "      <th>1</th>\n",
       "      <td>2019-08-01</td>\n",
       "      <td>B</td>\n",
       "      <td>21</td>\n",
       "      <td>20</td>\n",
       "      <td>101217.000</td>\n",
       "      <td>713</td>\n",
       "      <td>0.029</td>\n",
       "    </tr>\n",
       "    <tr>\n",
       "      <th>2</th>\n",
       "      <td>2019-08-02</td>\n",
       "      <td>A</td>\n",
       "      <td>44</td>\n",
       "      <td>38</td>\n",
       "      <td>242401.000</td>\n",
       "      <td>1338</td>\n",
       "      <td>0.033</td>\n",
       "    </tr>\n",
       "    <tr>\n",
       "      <th>3</th>\n",
       "      <td>2019-08-02</td>\n",
       "      <td>B</td>\n",
       "      <td>45</td>\n",
       "      <td>43</td>\n",
       "      <td>266748.000</td>\n",
       "      <td>1294</td>\n",
       "      <td>0.035</td>\n",
       "    </tr>\n",
       "    <tr>\n",
       "      <th>4</th>\n",
       "      <td>2019-08-03</td>\n",
       "      <td>A</td>\n",
       "      <td>68</td>\n",
       "      <td>62</td>\n",
       "      <td>354874.000</td>\n",
       "      <td>1845</td>\n",
       "      <td>0.037</td>\n",
       "    </tr>\n",
       "  </tbody>\n",
       "</table>\n",
       "</div>"
      ],
      "text/plain": [
       "        date group  orders  buyers    revenue  visitors  conversion\n",
       "0 2019-08-01     A      24      20 148579.000       719       0.033\n",
       "1 2019-08-01     B      21      20 101217.000       713       0.029\n",
       "2 2019-08-02     A      44      38 242401.000      1338       0.033\n",
       "3 2019-08-02     B      45      43 266748.000      1294       0.035\n",
       "4 2019-08-03     A      68      62 354874.000      1845       0.037"
      ]
     },
     "metadata": {},
     "output_type": "display_data"
    }
   ],
   "source": [
    "# Подготовка данных для анализа\n",
    "# создание массив уникальных пар значений дат и групп теста\n",
    "dates_groups = orders[['date','group']].drop_duplicates()\n",
    "\n",
    "# агрегированные кумулятивные данные о заказах \n",
    "orders_agg = (dates_groups\n",
    "              .apply(lambda x: orders[np.logical_and(orders['date'] <= x['date'], orders['group'] == x['group'])]\n",
    "                     .agg({\n",
    "                         'date': 'max',\n",
    "                         'group': 'max',\n",
    "                         'transactionId': 'nunique',\n",
    "                         'visitorId': 'nunique',\n",
    "                         'revenue': 'sum'\n",
    "                     }), axis = 1)\n",
    "              .sort_values(by = ['date', 'group']))\n",
    "\n",
    "# агрегированные кумулятивные данные о пользователях\n",
    "visits_agg = (dates_groups\n",
    "              .apply(lambda x: visits[np.logical_and(visits['date'] <= x['date'], visits['group'] == x['group'])]\n",
    "                     .agg({\n",
    "                         'date' : 'max', \n",
    "                         'group' : 'max', \n",
    "                         'visitors' : 'sum'\n",
    "                     }), axis=1)\n",
    "              .sort_values(by=['date','group']))\n",
    "\n",
    "# объединение кумулятивных данных\n",
    "cumulative_data = orders_agg.merge(visits_agg, on=['date', 'group'])\n",
    "cumulative_data.columns = ['date', 'group', 'orders', 'buyers', 'revenue', 'visitors']\n",
    "cumulative_data['conversion'] = cumulative_data['orders']/cumulative_data['visitors']\n",
    "display(cumulative_data.head())"
   ]
  },
  {
   "cell_type": "code",
   "execution_count": 15,
   "metadata": {},
   "outputs": [
    {
     "data": {
      "text/html": [
       "<div>\n",
       "<style scoped>\n",
       "    .dataframe tbody tr th:only-of-type {\n",
       "        vertical-align: middle;\n",
       "    }\n",
       "\n",
       "    .dataframe tbody tr th {\n",
       "        vertical-align: top;\n",
       "    }\n",
       "\n",
       "    .dataframe thead th {\n",
       "        text-align: right;\n",
       "    }\n",
       "</style>\n",
       "<table border=\"1\" class=\"dataframe\">\n",
       "  <thead>\n",
       "    <tr style=\"text-align: right;\">\n",
       "      <th></th>\n",
       "      <th>date</th>\n",
       "      <th>ordersA</th>\n",
       "      <th>buyersA</th>\n",
       "      <th>revenueA</th>\n",
       "      <th>visitorsA</th>\n",
       "      <th>conversionA</th>\n",
       "      <th>ordersB</th>\n",
       "      <th>buyersB</th>\n",
       "      <th>revenueB</th>\n",
       "      <th>visitorsB</th>\n",
       "      <th>conversionB</th>\n",
       "    </tr>\n",
       "  </thead>\n",
       "  <tbody>\n",
       "    <tr>\n",
       "      <th>0</th>\n",
       "      <td>2019-08-01</td>\n",
       "      <td>24</td>\n",
       "      <td>20</td>\n",
       "      <td>148579.000</td>\n",
       "      <td>719</td>\n",
       "      <td>0.033</td>\n",
       "      <td>21</td>\n",
       "      <td>20</td>\n",
       "      <td>101217.000</td>\n",
       "      <td>713</td>\n",
       "      <td>0.029</td>\n",
       "    </tr>\n",
       "    <tr>\n",
       "      <th>1</th>\n",
       "      <td>2019-08-02</td>\n",
       "      <td>44</td>\n",
       "      <td>38</td>\n",
       "      <td>242401.000</td>\n",
       "      <td>1338</td>\n",
       "      <td>0.033</td>\n",
       "      <td>45</td>\n",
       "      <td>43</td>\n",
       "      <td>266748.000</td>\n",
       "      <td>1294</td>\n",
       "      <td>0.035</td>\n",
       "    </tr>\n",
       "    <tr>\n",
       "      <th>2</th>\n",
       "      <td>2019-08-03</td>\n",
       "      <td>68</td>\n",
       "      <td>62</td>\n",
       "      <td>354874.000</td>\n",
       "      <td>1845</td>\n",
       "      <td>0.037</td>\n",
       "      <td>61</td>\n",
       "      <td>59</td>\n",
       "      <td>380996.000</td>\n",
       "      <td>1803</td>\n",
       "      <td>0.034</td>\n",
       "    </tr>\n",
       "    <tr>\n",
       "      <th>3</th>\n",
       "      <td>2019-08-04</td>\n",
       "      <td>84</td>\n",
       "      <td>77</td>\n",
       "      <td>425699.000</td>\n",
       "      <td>2562</td>\n",
       "      <td>0.033</td>\n",
       "      <td>78</td>\n",
       "      <td>75</td>\n",
       "      <td>489567.000</td>\n",
       "      <td>2573</td>\n",
       "      <td>0.030</td>\n",
       "    </tr>\n",
       "    <tr>\n",
       "      <th>4</th>\n",
       "      <td>2019-08-05</td>\n",
       "      <td>109</td>\n",
       "      <td>100</td>\n",
       "      <td>549917.000</td>\n",
       "      <td>3318</td>\n",
       "      <td>0.033</td>\n",
       "      <td>101</td>\n",
       "      <td>98</td>\n",
       "      <td>581995.000</td>\n",
       "      <td>3280</td>\n",
       "      <td>0.031</td>\n",
       "    </tr>\n",
       "  </tbody>\n",
       "</table>\n",
       "</div>"
      ],
      "text/plain": [
       "        date  ordersA  buyersA   revenueA  visitorsA  conversionA  ordersB  \\\n",
       "0 2019-08-01       24       20 148579.000        719        0.033       21   \n",
       "1 2019-08-02       44       38 242401.000       1338        0.033       45   \n",
       "2 2019-08-03       68       62 354874.000       1845        0.037       61   \n",
       "3 2019-08-04       84       77 425699.000       2562        0.033       78   \n",
       "4 2019-08-05      109      100 549917.000       3318        0.033      101   \n",
       "\n",
       "   buyersB   revenueB  visitorsB  conversionB  \n",
       "0       20 101217.000        713        0.029  \n",
       "1       43 266748.000       1294        0.035  \n",
       "2       59 380996.000       1803        0.034  \n",
       "3       75 489567.000       2573        0.030  \n",
       "4       98 581995.000       3280        0.031  "
      ]
     },
     "metadata": {},
     "output_type": "display_data"
    }
   ],
   "source": [
    "# кумулятивные данные по дням\n",
    "cumulativeA = cumulative_data[cumulative_data['group']=='A']\n",
    "cumulativeB = cumulative_data[cumulative_data['group']=='B']\n",
    "merged_cumulative = (cumulativeA\n",
    "                     .merge(cumulativeB, on='date', how='left', suffixes=['A', 'B'])\n",
    "                     .drop(['groupA', 'groupB'], axis=1))\n",
    "display(merged_cumulative.head())"
   ]
  },
  {
   "cell_type": "code",
   "execution_count": 16,
   "metadata": {},
   "outputs": [
    {
     "data": {
      "image/png": "[encoded data removed]",
      "text/plain": [
       "<Figure size 576x360 with 1 Axes>"
      ]
     },
     "metadata": {
      "needs_background": "light"
     },
     "output_type": "display_data"
    }
   ],
   "source": [
    "# График кумулятивной выручки по группам\n",
    "plt.figure(figsize=(8,5))\n",
    "\n",
    "plt.plot(cumulativeA['date'], cumulativeA['revenue'], label='A')\n",
    "plt.plot(cumulativeB['date'], cumulativeB['revenue'], label='B')\n",
    "\n",
    "plt.legend()\n",
    "plt.grid(linestyle='--', alpha=0.5)\n",
    "plt.xticks(rotation=45)\n",
    "plt.title(\"Кумулятивная выручка по группам, руб.\")\n",
    "plt.xlabel(\"дата\")\n",
    "plt.ylabel(\"выручка\")\n",
    "plt.show()"
   ]
  },
  {
   "cell_type": "markdown",
   "metadata": {},
   "source": [
    "Выручка в группе A почти равномерно увеличивается в течение всего теста. Накопленная выручка в группе В на протяжении всего периода превышала аналогичный показатель в группе A, однако в одной точке наблюдается резкий скачек показателя, что может свидетельствовать о наличии выброса в данных."
   ]
  },
  {
   "cell_type": "code",
   "execution_count": 17,
   "metadata": {},
   "outputs": [
    {
     "data": {
      "image/png": "[encoded data removed]",
      "text/plain": [
       "<Figure size 576x360 with 1 Axes>"
      ]
     },
     "metadata": {
      "needs_background": "light"
     },
     "output_type": "display_data"
    }
   ],
   "source": [
    "# График кумулятивного среднего чека по группам\n",
    "plt.figure(figsize=(8,5))\n",
    "\n",
    "plt.plot(cumulativeA['date'], cumulativeA['revenue']/cumulativeA['orders'], label='A')\n",
    "plt.plot(cumulativeB['date'], cumulativeB['revenue']/cumulativeB['orders'], label='B')\n",
    "\n",
    "plt.legend()\n",
    "plt.grid(linestyle='--', alpha=0.5)\n",
    "plt.xticks(rotation=45)\n",
    "plt.title(\"Кумулятивный средний чек по группам, руб.\")\n",
    "plt.xlabel(\"дата\")\n",
    "plt.ylabel(\"размер среднего чека\")\n",
    "plt.show()"
   ]
  },
  {
   "cell_type": "markdown",
   "metadata": {},
   "source": [
    "Показатели кумулятивного среднего чека по группам в первой половине теста не стабильны, наблюдается несколько точек как резкого падения, так и резкого роста, что также сигнализирует о наличии выбросов. В то же время во второй половине теста данные начали выравниваться."
   ]
  },
  {
   "cell_type": "code",
   "execution_count": 18,
   "metadata": {},
   "outputs": [
    {
     "data": {
      "image/png": "[encoded data removed]",
      "text/plain": [
       "<Figure size 576x360 with 1 Axes>"
      ]
     },
     "metadata": {
      "needs_background": "light"
     },
     "output_type": "display_data"
    }
   ],
   "source": [
    "# Относительное изменение кумулятивного среднего чека группы B к группе A\n",
    "plt.figure(figsize=(8,5))\n",
    "\n",
    "plt.plot(merged_cumulative['date'], \n",
    "         (merged_cumulative['revenueB']/merged_cumulative['ordersB'])\n",
    "         /(merged_cumulative['revenueA']/merged_cumulative['ordersA'])\n",
    "         -1)\n",
    "\n",
    "plt.axhline(y=0, color='black', linestyle='--')\n",
    "plt.grid(linestyle='--', alpha=0.5)\n",
    "plt.xticks(rotation=45)\n",
    "plt.title(\"Относительное изменение кумулятивного среднего чека группы B к группе A\")\n",
    "plt.xlabel(\"дата\")\n",
    "plt.show()"
   ]
  },
  {
   "cell_type": "markdown",
   "metadata": {},
   "source": [
    "Как и ожидалось, из-за отдельных аномалий в данных показатель относительного изменения кумулятивного среднего чека группы B к группе A сильно \"скачет\"."
   ]
  },
  {
   "cell_type": "code",
   "execution_count": 19,
   "metadata": {},
   "outputs": [
    {
     "data": {
      "image/png": "[encoded data removed]",
      "text/plain": [
       "<Figure size 576x360 with 1 Axes>"
      ]
     },
     "metadata": {
      "needs_background": "light"
     },
     "output_type": "display_data"
    }
   ],
   "source": [
    "# График кумулятивной конверсии по группам\n",
    "plt.figure(figsize=(8,5))\n",
    "\n",
    "plt.plot(cumulativeA['date'], cumulativeA['conversion'], label='A')\n",
    "plt.plot(cumulativeB['date'], cumulativeB['conversion'], label='B')\n",
    "\n",
    "plt.grid(linestyle='--', alpha=0.5)\n",
    "plt.xticks(rotation=45)\n",
    "plt.title(\"Кумулятивная конверсия по группам\")\n",
    "plt.xlabel(\"дата\")\n",
    "plt.ylabel(\"конверсия\")\n",
    "plt.show()"
   ]
  },
  {
   "cell_type": "markdown",
   "metadata": {},
   "source": [
    "После колебаний в начале тест показатели конверсии для групп стабилизировались. Конверсия группы B зафиксировалась на более высоком уровне."
   ]
  },
  {
   "cell_type": "code",
   "execution_count": 20,
   "metadata": {},
   "outputs": [
    {
     "data": {
      "image/png": "[encoded data removed]",
      "text/plain": [
       "<Figure size 576x360 with 1 Axes>"
      ]
     },
     "metadata": {
      "needs_background": "light"
     },
     "output_type": "display_data"
    }
   ],
   "source": [
    "# График относительного изменения кумулятивной конверсии группы B к группе A\n",
    "plt.figure(figsize=(8,5))\n",
    "\n",
    "plt.plot(merged_cumulative['date'], merged_cumulative['conversionB']/merged_cumulative['conversionA']-1)\n",
    "\n",
    "plt.grid(linestyle='--', alpha=0.5)\n",
    "plt.xticks(rotation=45)\n",
    "plt.axhline(y=0, color='black', linestyle='--')\n",
    "plt.axhline(y=.15, color='grey', linestyle='--')\n",
    "plt.title(\"Относительное изменение кумулятивной конверсии группы B к группе A\")\n",
    "plt.xlabel(\"дата\")\n",
    "plt.show()"
   ]
  },
  {
   "cell_type": "markdown",
   "metadata": {},
   "source": [
    "За исключением первых 5 дней теста накопленная конверсия в группе B стабильно превышала аналогичный показатель для группы A."
   ]
  },
  {
   "cell_type": "markdown",
   "metadata": {},
   "source": [
    "### Анализ выбросов  <a class=\"anchor\" id=\"two.3\"></a>"
   ]
  },
  {
   "cell_type": "code",
   "execution_count": 21,
   "metadata": {},
   "outputs": [
    {
     "data": {
      "text/html": [
       "<div>\n",
       "<style scoped>\n",
       "    .dataframe tbody tr th:only-of-type {\n",
       "        vertical-align: middle;\n",
       "    }\n",
       "\n",
       "    .dataframe tbody tr th {\n",
       "        vertical-align: top;\n",
       "    }\n",
       "\n",
       "    .dataframe thead th {\n",
       "        text-align: right;\n",
       "    }\n",
       "</style>\n",
       "<table border=\"1\" class=\"dataframe\">\n",
       "  <thead>\n",
       "    <tr style=\"text-align: right;\">\n",
       "      <th></th>\n",
       "      <th>visitorId</th>\n",
       "      <th>orders</th>\n",
       "    </tr>\n",
       "  </thead>\n",
       "  <tbody>\n",
       "    <tr>\n",
       "      <th>1023</th>\n",
       "      <td>4256040402</td>\n",
       "      <td>11</td>\n",
       "    </tr>\n",
       "    <tr>\n",
       "      <th>591</th>\n",
       "      <td>2458001652</td>\n",
       "      <td>11</td>\n",
       "    </tr>\n",
       "    <tr>\n",
       "      <th>569</th>\n",
       "      <td>2378935119</td>\n",
       "      <td>9</td>\n",
       "    </tr>\n",
       "    <tr>\n",
       "      <th>487</th>\n",
       "      <td>2038680547</td>\n",
       "      <td>8</td>\n",
       "    </tr>\n",
       "    <tr>\n",
       "      <th>44</th>\n",
       "      <td>199603092</td>\n",
       "      <td>5</td>\n",
       "    </tr>\n",
       "    <tr>\n",
       "      <th>744</th>\n",
       "      <td>3062433592</td>\n",
       "      <td>5</td>\n",
       "    </tr>\n",
       "    <tr>\n",
       "      <th>55</th>\n",
       "      <td>237748145</td>\n",
       "      <td>5</td>\n",
       "    </tr>\n",
       "    <tr>\n",
       "      <th>917</th>\n",
       "      <td>3803269165</td>\n",
       "      <td>5</td>\n",
       "    </tr>\n",
       "    <tr>\n",
       "      <th>299</th>\n",
       "      <td>1230306981</td>\n",
       "      <td>5</td>\n",
       "    </tr>\n",
       "    <tr>\n",
       "      <th>897</th>\n",
       "      <td>3717692402</td>\n",
       "      <td>5</td>\n",
       "    </tr>\n",
       "  </tbody>\n",
       "</table>\n",
       "</div>"
      ],
      "text/plain": [
       "       visitorId  orders\n",
       "1023  4256040402      11\n",
       "591   2458001652      11\n",
       "569   2378935119       9\n",
       "487   2038680547       8\n",
       "44     199603092       5\n",
       "744   3062433592       5\n",
       "55     237748145       5\n",
       "917   3803269165       5\n",
       "299   1230306981       5\n",
       "897   3717692402       5"
      ]
     },
     "metadata": {},
     "output_type": "display_data"
    }
   ],
   "source": [
    "# Количество заказов по пользователям\n",
    "orders_by_users = orders.groupby('visitorId', as_index=False).agg({'transactionId' : 'nunique'})\n",
    "orders_by_users.columns = ['visitorId','orders']\n",
    "display(orders_by_users.sort_values(by='orders',ascending=False).head(10))"
   ]
  },
  {
   "cell_type": "code",
   "execution_count": 22,
   "metadata": {},
   "outputs": [
    {
     "data": {
      "image/png": "[encoded data removed]",
      "text/plain": [
       "<Figure size 576x360 with 1 Axes>"
      ]
     },
     "metadata": {
      "needs_background": "light"
     },
     "output_type": "display_data"
    }
   ],
   "source": [
    "# Точечный график количества заказов по пользователям\n",
    "plt.figure(figsize=(8,5))\n",
    "\n",
    "x_values = pd.Series(range(0, len(orders_by_users)))\n",
    "plt.scatter(x_values, orders_by_users['orders'])\n",
    "\n",
    "plt.grid(linestyle='--', alpha=0.5)\n",
    "plt.title(\"Точечный график количества заказов по пользователям\")\n",
    "plt.xlabel(\"пользователи\")\n",
    "plt.ylabel(\"число заказов\")\n",
    "plt.show()"
   ]
  },
  {
   "cell_type": "code",
   "execution_count": 23,
   "metadata": {},
   "outputs": [
    {
     "name": "stdout",
     "output_type": "stream",
     "text": [
      "[2. 4.]\n"
     ]
    }
   ],
   "source": [
    "print(np.percentile(orders_by_users['orders'], [95, 99]))"
   ]
  },
  {
   "cell_type": "markdown",
   "metadata": {},
   "source": [
    "Как правило, пользователи совершают не более одного, реже дух заказов за месяц. Не более 5% пользователей оформляли более 2 заказов, не более 1% - четырех. Однако есть отдельные пользователи, число заказов которых доходит до 11. Для получения более качественных результатов анализа из выборки удаляются пользователи, совершившие более 4 заказов."
   ]
  },
  {
   "cell_type": "code",
   "execution_count": 24,
   "metadata": {},
   "outputs": [
    {
     "data": {
      "text/plain": [
       "count      1197.000\n",
       "mean       8348.006\n",
       "std       39191.132\n",
       "min          50.000\n",
       "25%        1220.000\n",
       "50%        2978.000\n",
       "75%        8290.000\n",
       "max     1294500.000\n",
       "Name: revenue, dtype: float64"
      ]
     },
     "execution_count": 24,
     "metadata": {},
     "output_type": "execute_result"
    }
   ],
   "source": [
    "# Стоимоть заказов\n",
    "orders['revenue'].describe()"
   ]
  },
  {
   "cell_type": "code",
   "execution_count": 25,
   "metadata": {},
   "outputs": [
    {
     "data": {
      "image/png": "[encoded data removed]",
      "text/plain": [
       "<Figure size 576x360 with 1 Axes>"
      ]
     },
     "metadata": {
      "needs_background": "light"
     },
     "output_type": "display_data"
    }
   ],
   "source": [
    "# Точечный график стоимостей заказов\n",
    "plt.figure(figsize=(8,5))\n",
    "\n",
    "x_values = pd.Series(range(0, len(orders['revenue'])))\n",
    "plt.scatter(x_values, orders['revenue'])\n",
    "\n",
    "plt.grid(linestyle='--', alpha=0.5)\n",
    "plt.title(\"Точечный график стоимостей заказов\")\n",
    "plt.xlabel(\"заказы\")\n",
    "plt.ylabel(\"стоимость\")\n",
    "plt.show()"
   ]
  },
  {
   "cell_type": "code",
   "execution_count": 26,
   "metadata": {},
   "outputs": [
    {
     "name": "stdout",
     "output_type": "stream",
     "text": [
      "[18168.  28000.  58233.2]\n"
     ]
    }
   ],
   "source": [
    "print(np.percentile(orders['revenue'], [90, 95, 99]))"
   ]
  },
  {
   "cell_type": "markdown",
   "metadata": {},
   "source": [
    "В данных по стоимости заказа есть явные аномалии (к примеру, заказ стоимостью более 1 млн руб.), об этом, в частности, свидетельствует сильное смещение вверх среднего значения относительно медианного. Стоимость 95% заказов не превышает 28000 тыс. руб., данное значение было выбрано в качестве границы для удаления аномально дорогих заказов."
   ]
  },
  {
   "cell_type": "markdown",
   "metadata": {},
   "source": [
    "### Cтатистическая значимость результатов  <a class=\"anchor\" id=\"two.4\"></a>"
   ]
  },
  {
   "cell_type": "code",
   "execution_count": 27,
   "metadata": {},
   "outputs": [
    {
     "data": {
      "text/html": [
       "<div>\n",
       "<style scoped>\n",
       "    .dataframe tbody tr th:only-of-type {\n",
       "        vertical-align: middle;\n",
       "    }\n",
       "\n",
       "    .dataframe tbody tr th {\n",
       "        vertical-align: top;\n",
       "    }\n",
       "\n",
       "    .dataframe thead th {\n",
       "        text-align: right;\n",
       "    }\n",
       "</style>\n",
       "<table border=\"1\" class=\"dataframe\">\n",
       "  <thead>\n",
       "    <tr style=\"text-align: right;\">\n",
       "      <th></th>\n",
       "      <th>date</th>\n",
       "      <th>visits_per_dateA</th>\n",
       "      <th>visits_per_dateB</th>\n",
       "      <th>orders_per_dateA</th>\n",
       "      <th>revenue_per_dateA</th>\n",
       "      <th>orders_per_dateB</th>\n",
       "      <th>revenue_per_dateB</th>\n",
       "    </tr>\n",
       "  </thead>\n",
       "  <tbody>\n",
       "    <tr>\n",
       "      <th>0</th>\n",
       "      <td>2019-08-01</td>\n",
       "      <td>719</td>\n",
       "      <td>713</td>\n",
       "      <td>24</td>\n",
       "      <td>148579.000</td>\n",
       "      <td>21</td>\n",
       "      <td>101217.000</td>\n",
       "    </tr>\n",
       "    <tr>\n",
       "      <th>1</th>\n",
       "      <td>2019-08-02</td>\n",
       "      <td>619</td>\n",
       "      <td>581</td>\n",
       "      <td>20</td>\n",
       "      <td>93822.000</td>\n",
       "      <td>24</td>\n",
       "      <td>165531.000</td>\n",
       "    </tr>\n",
       "    <tr>\n",
       "      <th>2</th>\n",
       "      <td>2019-08-03</td>\n",
       "      <td>507</td>\n",
       "      <td>509</td>\n",
       "      <td>24</td>\n",
       "      <td>112473.000</td>\n",
       "      <td>16</td>\n",
       "      <td>114248.000</td>\n",
       "    </tr>\n",
       "    <tr>\n",
       "      <th>3</th>\n",
       "      <td>2019-08-04</td>\n",
       "      <td>717</td>\n",
       "      <td>770</td>\n",
       "      <td>16</td>\n",
       "      <td>70825.000</td>\n",
       "      <td>17</td>\n",
       "      <td>108571.000</td>\n",
       "    </tr>\n",
       "    <tr>\n",
       "      <th>4</th>\n",
       "      <td>2019-08-05</td>\n",
       "      <td>756</td>\n",
       "      <td>707</td>\n",
       "      <td>25</td>\n",
       "      <td>124218.000</td>\n",
       "      <td>23</td>\n",
       "      <td>92428.000</td>\n",
       "    </tr>\n",
       "  </tbody>\n",
       "</table>\n",
       "</div>"
      ],
      "text/plain": [
       "        date  visits_per_dateA  visits_per_dateB  orders_per_dateA  \\\n",
       "0 2019-08-01               719               713                24   \n",
       "1 2019-08-02               619               581                20   \n",
       "2 2019-08-03               507               509                24   \n",
       "3 2019-08-04               717               770                16   \n",
       "4 2019-08-05               756               707                25   \n",
       "\n",
       "   revenue_per_dateA  orders_per_dateB  revenue_per_dateB  \n",
       "0         148579.000                21         101217.000  \n",
       "1          93822.000                24         165531.000  \n",
       "2         112473.000                16         114248.000  \n",
       "3          70825.000                17         108571.000  \n",
       "4         124218.000                23          92428.000  "
      ]
     },
     "metadata": {},
     "output_type": "display_data"
    }
   ],
   "source": [
    "# Подготовка данных для анализа\n",
    "# количество посещений в отдельную дату по группам\n",
    "visitors_dailyA = visits[visits['group']=='A'][['date', 'visitors']]\n",
    "visitors_dailyA.columns = ['date', 'visits_per_dateA']\n",
    "\n",
    "visitors_dailyB = visits[visits['group']=='B'][['date', 'visitors']]\n",
    "visitors_dailyB.columns = ['date', 'visits_per_dateB']\n",
    "\n",
    "# количество заказов и выручка в отдельную дату по группам\n",
    "orders_dailyA = (orders[orders['group']=='A']\n",
    "                 .groupby('date', as_index=False)\n",
    "                 .agg({'transactionId' : 'nunique', \n",
    "                       'revenue' : 'sum'}))\n",
    "orders_dailyA.columns = ['date', 'orders_per_dateA', 'revenue_per_dateA']\n",
    "\n",
    "orders_dailyB = (orders[orders['group']=='B']\n",
    "                 .groupby('date', as_index=False)\n",
    "                 .agg({'transactionId' : 'nunique', \n",
    "                       'revenue' : 'sum'}))\n",
    "orders_dailyB.columns = ['date', 'orders_per_dateB', 'revenue_per_dateB']\n",
    "\n",
    "data = (visitors_dailyA\n",
    "        .merge(visitors_dailyB, on='date')\n",
    "        .merge(orders_dailyA, on='date')\n",
    "        .merge(orders_dailyB, on='date'))\n",
    "display(data.head())"
   ]
  },
  {
   "cell_type": "code",
   "execution_count": 28,
   "metadata": {},
   "outputs": [],
   "source": [
    "# количество заказов по пользователям по группам\n",
    "orders_by_usersA = orders[orders['group']=='A'].groupby('visitorId', as_index=False).agg({'transactionId' : 'nunique'})\n",
    "orders_by_usersA.columns = ['visitorId', 'orders']\n",
    "\n",
    "orders_by_usersB = orders[orders['group']=='B'].groupby('visitorId', as_index=False).agg({'transactionId' : 'nunique'})\n",
    "orders_by_usersB.columns = ['visitorId', 'orders']"
   ]
  },
  {
   "cell_type": "code",
   "execution_count": 29,
   "metadata": {},
   "outputs": [
    {
     "name": "stdout",
     "output_type": "stream",
     "text": [
      "P-value: 0.008\n",
      "Отвергаем нулевую гипотезу: разница статистически значима\n",
      "Относительный прирост конверсии группы B: 13.8%\n"
     ]
    }
   ],
   "source": [
    "# Cтатистическая значимость различий в конверсии между группами по «сырым» данным\n",
    "sampleA = pd.concat([orders_by_usersA['orders'],\n",
    "                     pd.Series(0, index=np.arange(data['visits_per_dateA'].sum() - len(orders_by_usersA['orders'])), \n",
    "                               name='orders')],axis=0)\n",
    "\n",
    "sampleB = pd.concat([orders_by_usersB['orders'],\n",
    "                     pd.Series(0, index=np.arange(data['visits_per_dateB'].sum() - len(orders_by_usersB['orders'])), \n",
    "                               name='orders')],axis=0)\n",
    "\n",
    "alpha = .05 # критический уровень статистической значимости\n",
    "\n",
    "results = stats.mannwhitneyu(sampleA, sampleB)\n",
    "\n",
    "print('P-value: {0:.3f}'.format(results.pvalue))\n",
    "\n",
    "if (results.pvalue < alpha):\n",
    "    print('Отвергаем нулевую гипотезу: разница статистически значима')\n",
    "else:\n",
    "    print('Не получилось отвергнуть нулевую гипотезу, вывод о различии сделать нельзя')\n",
    "    \n",
    "print('Относительный прирост конверсии группы B: {0:.1%}'.format(sampleB.mean()/sampleA.mean()-1))"
   ]
  },
  {
   "cell_type": "code",
   "execution_count": 30,
   "metadata": {},
   "outputs": [
    {
     "name": "stdout",
     "output_type": "stream",
     "text": [
      "P-value: 0.365\n",
      "Не получилось отвергнуть нулевую гипотезу, вывод о различии сделать нельзя\n",
      "Относительные различия в среднем чеке между группами: 25.9%\n"
     ]
    }
   ],
   "source": [
    "# Cтатистическая значимость различий в среднем чеке заказа между группами по «сырым» данным\n",
    "alpha = .05 # критический уровень статистической значимости\n",
    "\n",
    "results = stats.mannwhitneyu(orders[orders['group']=='A']['revenue'], \n",
    "                             orders[orders['group']=='B']['revenue'])\n",
    "\n",
    "print('P-value: {0:.3f}'.format(results.pvalue))\n",
    "\n",
    "if (results.pvalue < alpha):\n",
    "    print('Отвергаем нулевую гипотезу: разница статистически значима')\n",
    "else:\n",
    "    print('Не получилось отвергнуть нулевую гипотезу, вывод о различии сделать нельзя')\n",
    "    \n",
    "print('Относительные различия в среднем чеке между группами: {0:.1%}'.format(\n",
    "    orders[orders['group']=='B']['revenue'].mean()\n",
    "    /orders[orders['group']=='A']['revenue'].mean()-1))"
   ]
  },
  {
   "cell_type": "code",
   "execution_count": 31,
   "metadata": {},
   "outputs": [
    {
     "name": "stdout",
     "output_type": "stream",
     "text": [
      "1099    148427295\n",
      "928     204675465\n",
      "684     358944393\n",
      "648     382846391\n",
      "1189    393266494\n",
      "Name: visitorId, dtype: int64\n",
      "(59,)\n"
     ]
    }
   ],
   "source": [
    "# Аномальные пользователи (выбросы)\n",
    "# пользоватлеи с аномально большим числом заказов\n",
    "many_orders = pd.concat([orders_by_usersA[orders_by_usersA['orders'] > 4]['visitorId'], \n",
    "                         orders_by_usersB[orders_by_usersB['orders'] > 4]['visitorId']], axis = 0)\n",
    "\n",
    "# пользоватлеи с аномально дорогими заказами\n",
    "expensive_orders = orders[orders['revenue'] > 28000]['visitorId']\n",
    "\n",
    "anomal_users = pd.concat([many_orders, expensive_orders], axis = 0).drop_duplicates().sort_values()\n",
    "print(anomal_users.head(5))\n",
    "print(anomal_users.shape)"
   ]
  },
  {
   "cell_type": "markdown",
   "metadata": {},
   "source": [
    "59 пользователей входят в число, совершивших аномально много или аномально дорогие заказы."
   ]
  },
  {
   "cell_type": "code",
   "execution_count": 32,
   "metadata": {},
   "outputs": [
    {
     "name": "stdout",
     "output_type": "stream",
     "text": [
      "P-value: 0.009\n",
      "Отвергаем нулевую гипотезу: разница статистически значима\n",
      "Относительный прирост конверсии группы B: 14.5%\n"
     ]
    }
   ],
   "source": [
    "# Cтатистическая значимость различий в конверсии между группами по «очищенным» данным\n",
    "sampleA_filtered = pd.concat([orders_by_usersA[~orders_by_usersA['visitorId'].isin(anomal_users)]['orders'],\n",
    "                              pd.Series(0, index=np.arange(data['visits_per_dateA'].sum() - len(orders_by_usersA['orders'])),\n",
    "                                        name='orders')],axis=0)\n",
    "\n",
    "sampleB_filtered = pd.concat([orders_by_usersB[~orders_by_usersB['visitorId'].isin(anomal_users)]['orders'],\n",
    "                              pd.Series(0, index=np.arange(data['visits_per_dateB'].sum() - len(orders_by_usersB['orders'])),\n",
    "                                        name='orders')],axis=0)\n",
    "\n",
    "alpha = .05 # критический уровень статистической значимости\n",
    "\n",
    "results = stats.mannwhitneyu(sampleA_filtered, sampleB_filtered)\n",
    "\n",
    "print('P-value: {0:.3f}'.format(results.pvalue))\n",
    "\n",
    "if (results.pvalue < alpha):\n",
    "    print('Отвергаем нулевую гипотезу: разница статистически значима')\n",
    "else:\n",
    "    print('Не получилось отвергнуть нулевую гипотезу, вывод о различии сделать нельзя')\n",
    "    \n",
    "print('Относительный прирост конверсии группы B: {0:.1%}'.format(sampleB_filtered.mean()/sampleA_filtered.mean()-1))"
   ]
  },
  {
   "cell_type": "code",
   "execution_count": 33,
   "metadata": {},
   "outputs": [
    {
     "name": "stdout",
     "output_type": "stream",
     "text": [
      "P-value: 0.481\n",
      "Не получилось отвергнуть нулевую гипотезу, вывод о различии сделать нельзя\n",
      "Относительные различия в среднем чеке между группами: 1.4%\n"
     ]
    }
   ],
   "source": [
    "# Статистическая значимость различий в среднем чеке заказа между группами по «очищенным» данным\n",
    "alpha = .05 # критический уровень статистической значимости\n",
    "\n",
    "results = stats.mannwhitneyu(\n",
    "    orders[(orders['group']=='A') & (~orders['visitorId'].isin(anomal_users))]['revenue'],\n",
    "    orders[(orders['group']=='B') & (~orders['visitorId'].isin(anomal_users))]['revenue'])\n",
    "\n",
    "print('P-value: {0:.3f}'.format(results.pvalue))\n",
    "\n",
    "if (results.pvalue < alpha):\n",
    "    print('Отвергаем нулевую гипотезу: разница статистически значима')\n",
    "else:\n",
    "    print('Не получилось отвергнуть нулевую гипотезу, вывод о различии сделать нельзя')\n",
    "\n",
    "print('Относительные различия в среднем чеке между группами: {0:.1%}'.format(\n",
    "    orders[(orders['group']=='A') & (~orders['visitorId'].isin(anomal_users))]['revenue'].mean()/\n",
    "    orders[(orders['group']=='B') & (~orders['visitorId'].isin(anomal_users))]['revenue'].mean()-1))"
   ]
  },
  {
   "cell_type": "markdown",
   "metadata": {},
   "source": [
    "Как на \"сырых\" так и на \"очищенных\" данных статистически значимо различие в конверсии между группами. На выборке, очищенной от выбросов, оценка относительного прироста конверсии группы B к группе A составляет 14.5%. В то же время нет статистически значимого различия в среднем чеке между группами ни по «сырым», ни по данным после фильтрации аномалий."
   ]
  },
  {
   "cell_type": "markdown",
   "metadata": {},
   "source": [
    "### Выводы <a class=\"anchor\" id=\"two.5\"></a>"
   ]
  },
  {
   "cell_type": "markdown",
   "metadata": {},
   "source": [
    "<div style=\"border:solid  black  2px; padding: 20px\">\n",
    "    \n",
    "* A/B-тест проводился с 1 по 31 августа 2019 года (включительно). Дубликатов и пропусков в данных с результатами теста нет, однако возникают вопросы к разделению трафика теста. В группу A попало 46,2% пользователей, в группу B - 53,8% (относительное различие количества пользователей около 14%), при этом 58 пользователей (более 10% от пользователей в группах) одновременно попали в обе группы, что потенциально может повлиять на качество результатов теста. Однако в связи с большой долей пользователей, попавших в обе группы, они не исключались из анализа.\n",
    "    \n",
    "***Итоги графического анализа***\n",
    "* Выручка в группе A почти равномерно увеличивается в течение всего теста. Накопленная выручка в группе В на протяжении всего периода превышала аналогичный показатель в группе A, однако в одной точке наблюдается резкий скачек показателя, что может свидетельствовать о наличии выброса в данных. \n",
    "* Показатели кумулятивного среднего чека по группам в первой половине теста не стабильны, наблюдается несколько точек как резкого падения, так и резкого роста, что также сигнализирует о наличии выбросов. В то же время во второй половине теста данные начали выравниваться. Как и ожидалось, из-за отдельных аномалий в данных показатель относительного изменения кумулятивного среднего чека группы B к группе A сильно \"скачет\".\n",
    "* После колебаний в начале тест показатели конверсии для групп стабилизировались. Конверсия группы B зафиксировалась на более высоком уровне. Так, за исключением первых 5 дней теста накопленная конверсия в группе B стабильно превышала аналогичный показатель для группы A.  \n",
    "\n",
    "***Очистка выбросов***\n",
    "* Как правило, пользователи совершают не более одного, реже дух заказов за месяц. Не более 5% пользователей оформляли более 2 заказов, не более 1% - четырех. Однако есть отдельные пользователи, число заказов которых доходит до 11. Для получения более качественных результатов анализа из выборки удаляются пользователи, совершившие более 4 заказов.\n",
    "* В данных по стоимости заказа есть явные аномалии (к примеру, заказ стоимостью более 1 млн руб.), об этом, в частности, свидетельствует сильное смещение вверх среднего значения относительно медианного. Стоимость 95% заказов не превышает 28000 тыс. руб., данное значение было выбрано в качестве границы для удаления аномально дорогих заказов.\n",
    "* 59 пользователей входят в число, совершивших аномально много или аномально дорогие заказы.  \n",
    "    \n",
    "***Статистическая значимость результатов теста***\n",
    "* Как на \"сырых\" так и на \"очищенных\" данных статистически значимо различие в конверсии между группами. На выборке, очищенной от выбросов, оценка относительного прироста конверсии группы B к группе A составляет 14.5%.\n",
    "* В то же время нет статистически значимого различия в среднем чеке между группами ни по «сырым», ни по данным после фильтрации аномалий.\n",
    "    \n",
    "***Графический анализ свидетельствует о том, что кумулятивные показатели ближе к концу теста стабилизировались. Конверсия в группе B стабильно начала превышать аналогичный показатель для группы A, при этом данный результат статистически значим. Значимых различий в среднем чеке между группами установить не удалось. В целом, тест целесообразно остановить, зафиксировав положительное влияние тестируемых изменений на показатель конверсии.***"
   ]
  }
 ],
 "metadata": {
  "kernelspec": {
   "display_name": "Python 3",
   "language": "python",
   "name": "python3"
  },
  "language_info": {
   "codemirror_mode": {
    "name": "ipython",
    "version": 3
   },
   "file_extension": ".py",
   "mimetype": "text/x-python",
   "name": "python",
   "nbconvert_exporter": "python",
   "pygments_lexer": "ipython3",
   "version": "3.8.3"
  }
 },
 "nbformat": 4,
 "nbformat_minor": 2
}
